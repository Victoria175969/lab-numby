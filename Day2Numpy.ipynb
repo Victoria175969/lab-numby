{
 "cells": [
  {
   "cell_type": "code",
   "execution_count": 77,
   "id": "9fa46731-add4-4038-9e67-3d307a59c76a",
   "metadata": {},
   "outputs": [],
   "source": [
    "# 1 \n",
    "import numpy as np"
   ]
  },
  {
   "cell_type": "code",
   "execution_count": 79,
   "id": "b026e835-fe8b-4db4-ad81-98ecff14d88c",
   "metadata": {},
   "outputs": [
    {
     "data": {
      "text/plain": [
       "array([0., 0., 0., 0., 0., 0., 0., 0., 0., 0.])"
      ]
     },
     "execution_count": 79,
     "metadata": {},
     "output_type": "execute_result"
    }
   ],
   "source": [
    "# 2 Create a null vector of size 10\n",
    "null_vector = np.zeros(10)\n",
    "null_vector"
   ]
  },
  {
   "cell_type": "code",
   "execution_count": 81,
   "id": "d666a622-c883-4424-93bc-16584bb2345c",
   "metadata": {},
   "outputs": [
    {
     "data": {
      "text/plain": [
       "array([0., 0., 0., 0., 1., 0., 0., 0., 0., 0.])"
      ]
     },
     "execution_count": 81,
     "metadata": {},
     "output_type": "execute_result"
    }
   ],
   "source": [
    "# 3 Create a null vector of size 10 but the fifth value which is 1\n",
    "null_vector = np.zeros(10)\n",
    "null_vector[4] = 1\n",
    "null_vector"
   ]
  },
  {
   "cell_type": "code",
   "execution_count": 83,
   "id": "e038ed79-6e82-495d-9a92-2bd510389abd",
   "metadata": {},
   "outputs": [
    {
     "data": {
      "text/plain": [
       "array([10, 11, 12, 13, 14, 15, 16, 17, 18, 19, 20, 21, 22, 23, 24, 25, 26,\n",
       "       27, 28, 29, 30, 31, 32, 33, 34, 35, 36, 37, 38, 39, 40, 41, 42, 43,\n",
       "       44, 45, 46, 47, 48, 49])"
      ]
     },
     "execution_count": 83,
     "metadata": {},
     "output_type": "execute_result"
    }
   ],
   "source": [
    "# 4 Create a vector with values ranging from 10 to 49\n",
    "np.arange(10, 50)"
   ]
  },
  {
   "cell_type": "code",
   "execution_count": 85,
   "id": "cc10a97e-cd04-4b83-94eb-76c36e13e8e5",
   "metadata": {},
   "outputs": [
    {
     "data": {
      "text/plain": [
       "array([[0, 1, 2],\n",
       "       [3, 4, 5],\n",
       "       [6, 7, 8]])"
      ]
     },
     "execution_count": 85,
     "metadata": {},
     "output_type": "execute_result"
    }
   ],
   "source": [
    "# 5 Create a 3x3 matrix with values ranging from 0 to 8\n",
    "matrix = np.arange(9).reshape(3, 3)\n",
    "matrix"
   ]
  },
  {
   "cell_type": "code",
   "execution_count": 87,
   "id": "7fed3b6b-c54e-4b14-be94-19ab00f831d8",
   "metadata": {},
   "outputs": [
    {
     "data": {
      "text/plain": [
       "(array([0, 1, 4]),)"
      ]
     },
     "execution_count": 87,
     "metadata": {},
     "output_type": "execute_result"
    }
   ],
   "source": [
    "# 6 Find indices of non-zero elements from [1,2,0,0,4,0]\n",
    "arr = np.array([1, 2, 0, 0, 4, 0])\n",
    "indices_non_zero_elements = np.nonzero(arr)\n",
    "indices_non_zero_elements"
   ]
  },
  {
   "cell_type": "code",
   "execution_count": 89,
   "id": "6e2fec50-145a-4679-89b0-d09652a89a3d",
   "metadata": {},
   "outputs": [
    {
     "data": {
      "text/plain": [
       "array([[1., 0., 0.],\n",
       "       [0., 1., 0.],\n",
       "       [0., 0., 1.]])"
      ]
     },
     "execution_count": 89,
     "metadata": {},
     "output_type": "execute_result"
    }
   ],
   "source": [
    "# 7 Create a 3x3 identity matrix\n",
    "\n",
    "identity_matrix = np.eye(3)\n",
    "identity_matrix"
   ]
  },
  {
   "cell_type": "code",
   "execution_count": 91,
   "id": "91d1dec5-fc2f-4478-8252-7d65f23b27a0",
   "metadata": {},
   "outputs": [
    {
     "data": {
      "text/plain": [
       "array([[[0.63722738, 0.87118676, 0.02304254],\n",
       "        [0.06277146, 0.33862259, 0.85953239],\n",
       "        [0.78834118, 0.60023607, 0.06237888]],\n",
       "\n",
       "       [[0.85129485, 0.19414309, 0.48759927],\n",
       "        [0.96694342, 0.05895144, 0.97330156],\n",
       "        [0.74752093, 0.12677329, 0.71573709]],\n",
       "\n",
       "       [[0.22633592, 0.30733501, 0.79566328],\n",
       "        [0.01143878, 0.70307489, 0.7870186 ],\n",
       "        [0.33208271, 0.98706621, 0.77420095]]])"
      ]
     },
     "execution_count": 91,
     "metadata": {},
     "output_type": "execute_result"
    }
   ],
   "source": [
    "# 8 Create a 3x3x3 array with random values\n",
    "array = np.random.random ((3, 3, 3))\n",
    "array"
   ]
  },
  {
   "cell_type": "code",
   "execution_count": 93,
   "id": "d52c213e-e046-462c-869c-199217eb0d02",
   "metadata": {},
   "outputs": [
    {
     "data": {
      "text/plain": [
       "array([[0.20488101, 0.16440177, 0.57922927, 0.5268114 , 0.28538168,\n",
       "        0.87858128, 0.72351194, 0.09329026, 0.54979597, 0.83520673],\n",
       "       [0.98200334, 0.63186572, 0.0579001 , 0.08044741, 0.81545509,\n",
       "        0.60324075, 0.93038409, 0.16412763, 0.86085105, 0.49163989],\n",
       "       [0.03555292, 0.49810097, 0.26936724, 0.68788897, 0.07622875,\n",
       "        0.19000998, 0.24904143, 0.59701351, 0.7762217 , 0.70351838],\n",
       "       [0.11668234, 0.3624848 , 0.56361751, 0.03843598, 0.83499176,\n",
       "        0.28618344, 0.30345115, 0.0934997 , 0.42311362, 0.94166384],\n",
       "       [0.34379634, 0.78266041, 0.29616608, 0.13282148, 0.12758612,\n",
       "        0.24891724, 0.88076776, 0.66604561, 0.97571837, 0.94264707],\n",
       "       [0.43720187, 0.97013293, 0.21582949, 0.48888523, 0.26734977,\n",
       "        0.91044593, 0.37698218, 0.34193493, 0.75868581, 0.16757103],\n",
       "       [0.03220413, 0.5119372 , 0.92232642, 0.60842705, 0.81511192,\n",
       "        0.37238834, 0.90502777, 0.75617668, 0.41216332, 0.19156733],\n",
       "       [0.19977318, 0.85650631, 0.68061956, 0.79017032, 0.9528677 ,\n",
       "        0.93541311, 0.22866787, 0.62725233, 0.70763416, 0.5388467 ],\n",
       "       [0.67556622, 0.4427676 , 0.44404838, 0.86993361, 0.15914506,\n",
       "        0.34706333, 0.42874899, 0.35947806, 0.94844097, 0.15665982],\n",
       "       [0.66398382, 0.89175801, 0.30344812, 0.01788284, 0.08108254,\n",
       "        0.29748575, 0.9560081 , 0.68583415, 0.66200394, 0.72634394]])"
      ]
     },
     "execution_count": 93,
     "metadata": {},
     "output_type": "execute_result"
    }
   ],
   "source": [
    "#9  Create a 10x10 array with random values and find the minimum and maximum values\n",
    "array = np.random.random ((10,10))\n",
    "array"
   ]
  },
  {
   "cell_type": "code",
   "execution_count": 95,
   "id": "3020063a-76bc-476a-83d2-cabb8226b590",
   "metadata": {},
   "outputs": [
    {
     "name": "stdout",
     "output_type": "stream",
     "text": [
      "0.017882841329710963 0.9820033398300372\n"
     ]
    }
   ],
   "source": [
    "min = array.min()\n",
    "max = array.max()\n",
    "print(min,max)"
   ]
  },
  {
   "cell_type": "code",
   "execution_count": 97,
   "id": "201d1091-0cda-416d-817c-56a4ca8b69b1",
   "metadata": {},
   "outputs": [
    {
     "data": {
      "text/plain": [
       "array([0.12258711, 0.76553732, 0.6250091 , 0.5058692 , 0.1593568 ,\n",
       "       0.7584349 , 0.50365179, 0.50223418, 0.94482776, 0.60094878,\n",
       "       0.84221026, 0.33020769, 0.0237392 , 0.12702226, 0.02660377,\n",
       "       0.97324706, 0.78871853, 0.18194374, 0.14276138, 0.6448272 ,\n",
       "       0.86870756, 0.99911966, 0.01578009, 0.7697604 , 0.56251984,\n",
       "       0.61407503, 0.99477583, 0.60694019, 0.79985964, 0.60209214])"
      ]
     },
     "execution_count": 97,
     "metadata": {},
     "output_type": "execute_result"
    }
   ],
   "source": [
    "# 10 Create a random vector of size 30 and find the mean value \n",
    "random_vector = np.random.random(30)\n",
    "random_vector"
   ]
  },
  {
   "cell_type": "code",
   "execution_count": 99,
   "id": "c8339a57-f68e-4b63-902c-6ab2910e2a71",
   "metadata": {},
   "outputs": [
    {
     "data": {
      "text/plain": [
       "0.5467789466738651"
      ]
     },
     "execution_count": 99,
     "metadata": {},
     "output_type": "execute_result"
    }
   ],
   "source": [
    "mean = np.mean(random_vector)\n",
    "mean"
   ]
  },
  {
   "cell_type": "code",
   "execution_count": 120,
   "id": "789207e0-8c4b-496a-a945-5b21b046178a",
   "metadata": {},
   "outputs": [
    {
     "data": {
      "text/plain": [
       "array([[0, 0, 0, 0, 0],\n",
       "       [1, 0, 0, 0, 0],\n",
       "       [0, 2, 0, 0, 0],\n",
       "       [0, 0, 3, 0, 0],\n",
       "       [0, 0, 0, 4, 0]])"
      ]
     },
     "execution_count": 120,
     "metadata": {},
     "output_type": "execute_result"
    }
   ],
   "source": [
    "# 11 Create a 5x5 matrix with values 1,2,3,4 just below the diagonal \n",
    "matrix = np.diag([1, 2, 3, 4], k=-1)\n",
    "matrix"
   ]
  },
  {
   "cell_type": "code",
   "execution_count": 144,
   "id": "18fa6a1c-0caf-4d0f-8d94-d98f62a514bb",
   "metadata": {},
   "outputs": [
    {
     "data": {
      "text/plain": [
       "array([[-0.39248018, -1.43753359,  1.38208884, -1.53205507, -2.1977964 ],\n",
       "       [ 1.06495314,  0.97217705,  0.87331361, -1.44025184, -1.70262673],\n",
       "       [ 0.9367373 ,  0.01621279,  0.48672635, -1.0926483 ,  0.31757043],\n",
       "       [ 1.40462319, -1.43081161, -1.28231286,  0.13732206,  0.45897986],\n",
       "       [ 0.29734064,  2.01895466,  2.87045328,  0.57930246, -0.38797033]])"
      ]
     },
     "execution_count": 144,
     "metadata": {},
     "output_type": "execute_result"
    }
   ],
   "source": [
    "# 12 Normalize a 5x5 random matrix \n",
    "\n",
    "matrix = np.random.randn(5, 5)  \n",
    "matrix.mean()\n",
    "z_score = (matrix - np.mean(matrix, axis=1)) / np.std(matrix, axis=1)\n",
    "z_score "
   ]
  },
  {
   "cell_type": "code",
   "execution_count": 150,
   "id": "c86aa568-e73d-439d-91ee-1937b972bb39",
   "metadata": {},
   "outputs": [
    {
     "data": {
      "text/plain": [
       "array([ 9, 11])"
      ]
     },
     "execution_count": 150,
     "metadata": {},
     "output_type": "execute_result"
    }
   ],
   "source": [
    "# 13  How to find common values between two arrays? \n",
    "array1 = np.array([1,3,5,7,9,11])\n",
    "array2 = np.array([9,10,11,12,13,14])\n",
    "common_values = np.intersect1d(array1, array2)\n",
    "common_values"
   ]
  },
  {
   "cell_type": "code",
   "execution_count": 166,
   "id": "4152c11b-5e2d-4fb5-8d9c-dd5721597476",
   "metadata": {},
   "outputs": [
    {
     "data": {
      "text/plain": [
       "array([0.01639413, 0.16994877, 0.41573058, 0.49583903, 0.61989339,\n",
       "       0.65290586, 0.66230464, 0.67927705, 0.86145091, 0.92010294])"
      ]
     },
     "execution_count": 166,
     "metadata": {},
     "output_type": "execute_result"
    }
   ],
   "source": [
    "# 14 Create a random vector of size 10 and sort it\n",
    "vector = np.random.rand(10)\n",
    "sorted_vect = np.sort(vector)\n",
    "sorted_vect"
   ]
  },
  {
   "cell_type": "code",
   "execution_count": 210,
   "id": "aa726dde-ef88-4d3d-8649-214e7456ffe6",
   "metadata": {},
   "outputs": [
    {
     "data": {
      "text/plain": [
       "array([0.32267115, 0.82314382, 0.45716159, 0.5345879 , 0.        ,\n",
       "       0.93741525, 0.64697252, 0.86824002, 0.56335962, 0.61924661])"
      ]
     },
     "execution_count": 210,
     "metadata": {},
     "output_type": "execute_result"
    }
   ],
   "source": [
    "# 15 Create random vector of size 10 and replace the maximum value by 0\n",
    "vector = np.random.rand(10)\n",
    "max_value = arr.max()\n",
    "vector[max_value] = 0\n",
    "vector"
   ]
  },
  {
   "cell_type": "code",
   "execution_count": 208,
   "id": "b2c2fe89-7c3c-4dd7-bfe0-263e94abf7eb",
   "metadata": {},
   "outputs": [
    {
     "data": {
      "text/plain": [
       "array([[ 0.19950338, -1.29210124, -0.6076497 ,  1.27057541,  0.42967216],\n",
       "       [-0.7709691 ,  1.18776126,  0.80001866,  0.38289096, -1.59970178],\n",
       "       [-0.98081721,  0.17548857,  0.40578738, -0.3045503 ,  0.70409156],\n",
       "       [ 0.61224885, -0.14327225, -3.04609249,  1.23144   ,  1.34567588],\n",
       "       [ 1.19101371,  0.10484568,  0.24345542, -0.8374644 , -0.70185041]])"
      ]
     },
     "execution_count": 208,
     "metadata": {},
     "output_type": "execute_result"
    }
   ],
   "source": [
    "# 16 Subtract the mean of each row of a matrix \n",
    "matrix  = np.random.randn(5, 5) \n",
    "row_mean = matrix.mean(axis=1, keepdims=True)\n",
    "matrix_diff = matrix - row_mean\n",
    "matrix_diff"
   ]
  },
  {
   "cell_type": "code",
   "execution_count": 212,
   "id": "048ff956-9dc4-43be-8f2f-349d5973a8fe",
   "metadata": {},
   "outputs": [
    {
     "data": {
      "text/plain": [
       "array([9995, 9996, 9997, 9998, 9999])"
      ]
     },
     "execution_count": 212,
     "metadata": {},
     "output_type": "execute_result"
    }
   ],
   "source": [
    "# 17 How to get the n largest values of an array\n",
    "np.random.seed(42)\n",
    "Z = np.arange(10000)\n",
    "np.random.shuffle(Z)\n",
    "n = 5\n",
    "indices = np.argsort(Z)[-n:]\n",
    "largest_values = Z[indices]\n",
    "largest_values"
   ]
  },
  {
   "cell_type": "code",
   "execution_count": 214,
   "id": "df6b1f22-f514-4fe6-8c8f-5a09d04dd78a",
   "metadata": {},
   "outputs": [
    {
     "name": "stdout",
     "output_type": "stream",
     "text": [
      "[[ 0  1  2]\n",
      " [ 3  4  5]\n",
      " [ 6  7  8]\n",
      " [ 9 10 11]\n",
      " [12 13 14]]\n"
     ]
    },
    {
     "data": {
      "text/plain": [
       "array([[  0,   1,   2],\n",
       "       [  3,   4,  25],\n",
       "       [ 36,  49,  64],\n",
       "       [ 81, 100, 121],\n",
       "       [144, 169, 196]])"
      ]
     },
     "execution_count": 214,
     "metadata": {},
     "output_type": "execute_result"
    }
   ],
   "source": [
    "# 18 Create a random 5*3 matrix and replace items that are larger than 4 by their squares  \n",
    "np.random.seed(42)\n",
    "p = np.arange(15).reshape(5,3)\n",
    "print(p)\n",
    "np.where (p>4, np.square(p), p)"
   ]
  },
  {
   "cell_type": "code",
   "execution_count": null,
   "id": "065f5a85-2223-49b6-8bf7-fb648019efcc",
   "metadata": {},
   "outputs": [],
   "source": []
  },
  {
   "cell_type": "code",
   "execution_count": null,
   "id": "1c827904-2626-4fe6-a3a3-a2be2270fa08",
   "metadata": {},
   "outputs": [],
   "source": []
  },
  {
   "cell_type": "code",
   "execution_count": null,
   "id": "f57f8dc1-be46-4a01-89d8-6a557b235cf9",
   "metadata": {},
   "outputs": [],
   "source": []
  }
 ],
 "metadata": {
  "kernelspec": {
   "display_name": "Python 3 (ipykernel)",
   "language": "python",
   "name": "python3"
  },
  "language_info": {
   "codemirror_mode": {
    "name": "ipython",
    "version": 3
   },
   "file_extension": ".py",
   "mimetype": "text/x-python",
   "name": "python",
   "nbconvert_exporter": "python",
   "pygments_lexer": "ipython3",
   "version": "3.12.4"
  }
 },
 "nbformat": 4,
 "nbformat_minor": 5
}
